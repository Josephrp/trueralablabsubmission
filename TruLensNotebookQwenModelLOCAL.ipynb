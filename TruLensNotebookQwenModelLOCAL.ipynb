{
 "cells": [
  {
   "cell_type": "code",
   "execution_count": null,
   "metadata": {},
   "outputs": [],
   "source": [
    "Install"
   ]
  },
  {
   "cell_type": "code",
   "execution_count": null,
   "metadata": {},
   "outputs": [],
   "source": [
    "!pip trulens-eval transformers torch streamlit"
   ]
  },
  {
   "cell_type": "markdown",
   "metadata": {},
   "source": [
    "Import Libraries"
   ]
  },
  {
   "cell_type": "code",
   "execution_count": null,
   "metadata": {},
   "outputs": [],
   "source": [
    "from trulens_eval import Tru, TruCustomApp, Feedback\n",
    "from trulens_eval.tru_custom_app import instrument\n",
    "from trulens_eval.feedback import Coherence, Relevance\n",
    "from transformers import AutoTokenizer, AutoModelForCausalLM\n",
    "import torch\n"
   ]
  },
  {
   "cell_type": "markdown",
   "metadata": {},
   "source": [
    "Define Your Model Class"
   ]
  },
  {
   "cell_type": "code",
   "execution_count": null,
   "metadata": {},
   "outputs": [],
   "source": [
    "class YourModel:\n",
    "    def __init__(self):\n",
    "        self.tokenizer = AutoTokenizer.from_pretrained(\"Qwen/Qwen-1_8B-Chat\", trust_remote_code=True)\n",
    "        self.model = AutoModelForCausalLM.from_pretrained(\"Qwen/Qwen-1_8B-Chat\", device_map=\"auto\", trust_remote_code=True).eval()\n",
    "        self.history = None\n",
    "\n",
    "    @instrument\n",
    "    def predict(self, user_input, system_prompt):\n",
    "        print(\"Model response for:\" + user_input + \" with prompt:\" + system_prompt)\n",
    "        response, self.history = self.model.chat(self.tokenizer, user_input, history=self.history, system=system_prompt)\n",
    "        return response\n"
   ]
  },
  {
   "cell_type": "markdown",
   "metadata": {},
   "source": [
    " Initialize TruLens and Model"
   ]
  },
  {
   "cell_type": "code",
   "execution_count": null,
   "metadata": {},
   "outputs": [],
   "source": [
    "tru = Tru()\n",
    "tru.reset_database()\n",
    "model = YourModel()\n",
    "\n",
    "coherence_feedback = Feedback(Coherence()).on_output()\n",
    "relevance_feedback = Feedback(Relevance()).on_input_output()\n",
    "\n",
    "ta = TruCustomApp(model, app_id=\"trumodel\", feedbacks=[coherence_feedback, relevance_feedback])\n"
   ]
  },
  {
   "cell_type": "markdown",
   "metadata": {},
   "source": [
    " Define Function to Make Predictions"
   ]
  },
  {
   "cell_type": "code",
   "execution_count": null,
   "metadata": {},
   "outputs": [],
   "source": [
    "def make_predictions(inputs):\n",
    "    for user_input, system_prompt in inputs:\n",
    "        response, record = ta.with_record(model.predict, user_input, system_prompt)\n",
    "        print(response)\n",
    "        print(record.dict())\n"
   ]
  },
  {
   "cell_type": "markdown",
   "metadata": {},
   "source": [
    "List of Inputs and Make Predictions"
   ]
  },
  {
   "cell_type": "code",
   "execution_count": null,
   "metadata": {},
   "outputs": [],
   "source": [
    "inputs = [\n",
    "    (\"Hello!\", \"Hello!\"),\n",
    "    (\"How are you?\", \"How are you?\"),\n",
    "    (\"What's the weather like?\", \"What's the weather like?\"),\n",
    "    (\"Tell me a joke.\", \"Tell me a joke.\"),\n",
    "    (\"What's new today?\", \"What's new today?\"),\n",
    "    (\"Can you give me some advice?\", \"Can you give me some advice?\"),\n",
    "    (\"What's your favorite color?\", \"What's your favorite color?\"),\n",
    "    (\"How does AI work?\", \"How does AI work?\"),\n",
    "    (\"What's the meaning of life?\", \"What's the meaning of life?\"),\n",
    "    (\"Do you like music?\", \"Do you like music?\"),\n",
    "    (\"What's the latest news?\", \"What's the latest news?\"),\n",
    "    (\"Can you recommend a book?\", \"Can you recommend a book?\"),\n",
    "    (\"What time is it?\", \"What time is it?\"),\n",
    "    (\"Tell me about yourself.\", \"Tell me about yourself.\"),\n",
    "    (\"What's your favorite food?\", \"What's your favorite food?\"),\n",
    "    (\"How do you learn?\", \"How do you learn?\"),\n",
    "    (\"What are your hobbies?\", \"What are your hobbies?\"),\n",
    "    (\"Can you tell a story?\", \"Can you tell a story?\"),\n",
    "    (\"What is your opinion on art?\", \"What is your opinion on art?\"),\n",
    "    (\"Do you know any fun facts?\", \"Do you know any fun facts?\")\n",
    "]"
   ]
  },
  {
   "cell_type": "markdown",
   "metadata": {},
   "source": [
    "Start TruLens Dashboard"
   ]
  },
  {
   "cell_type": "code",
   "execution_count": null,
   "metadata": {},
   "outputs": [],
   "source": [
    "tru.start_dashboard()\n"
   ]
  }
 ],
 "metadata": {
  "language_info": {
   "name": "python"
  }
 },
 "nbformat": 4,
 "nbformat_minor": 2
}
